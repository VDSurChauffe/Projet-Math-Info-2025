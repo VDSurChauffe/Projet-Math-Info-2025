{
 "cells": [
  {
   "cell_type": "code",
   "execution_count": 15,
   "id": "174b431b-1bf6-4ff0-a56b-aa067a2737ca",
   "metadata": {},
   "outputs": [],
   "source": [
    "import numpy as np"
   ]
  },
  {
   "cell_type": "code",
   "execution_count": 73,
   "id": "11c285fc-e9d3-4be7-91eb-14dc44743836",
   "metadata": {},
   "outputs": [],
   "source": [
    "class Cell :\n",
    "    def __init__(self,h=0,d=0,b=0,g=0):\n",
    "        self.h, self.d, self.b, self.g = h, d, b ,g\n",
    "        self.visited = False\n",
    "        self.mazeMatrix = [] \n",
    "        \n",
    "    def __repr__(self):\n",
    "        return f\"Cell(h={self.h}, b={self.b}, g={self.g}, d={self.d})\""
   ]
  },
  {
   "cell_type": "code",
   "execution_count": 38,
   "id": "0e4e73ed-87e9-42f2-84b2-8f61ad6aa80a",
   "metadata": {},
   "outputs": [],
   "source": [
    "class PseudoMaze:\n",
    "    \n",
    "    def __init__(self, size):\n",
    "        self.size = size\n",
    "        self.height, self.width = self.size\n",
    "        self.generate()\n",
    "        \n",
    "    def generate(self):\n",
    "        \n",
    "        L = np.empty((self.height, self.width), dtype=object)\n",
    "        for i in range(self.height):\n",
    "            for j in range(self.width):\n",
    "                L[i,j] = Cell()\n",
    "        for i in range(self.height):\n",
    "            for j in range(self.width):\n",
    "                if i == 0:\n",
    "                    L[i,j].h = 1\n",
    "                if i == self.height - 1:\n",
    "                    L[i,j].b = 1\n",
    "                if j == 0:\n",
    "                    L[i,j].g = 1\n",
    "                if j == self.width - 1:\n",
    "                    L[i,j].d = 1\n",
    "        self.mazeMatrix = L\n",
    "\n",
    "                    \n",
    "    def to_graph(self):\n",
    "        g = Graph()\n",
    "        for i in range(self.height):\n",
    "            for j in range(self.width):\n",
    "                cell = self.mazeMatrix[i,j]\n",
    "                if not cell.h:\n",
    "                    g.add_edge((i, j), (i - 1, j))\n",
    "                if not cell.b:\n",
    "                    g.add_edge((i, j), (i + 1, j))\n",
    "                if not cell.g:\n",
    "                    g.add_edge((i, j), (i, j - 1))\n",
    "                if not cell.d:\n",
    "                    g.add_edge((i, j), (i, j + 1))\n",
    "        return g\n",
    "\n",
    "    def plot_maze(self):\n",
    "        p = plot([])\n",
    "        for i in range(self.height):\n",
    "            for j in range(self.width):\n",
    "                y = self.height - i\n",
    "                c = self.mazeMatrix[i, j]\n",
    "                p += line2d([(j, y), (j, y-1)], thickness=1+4*c.g, color=\"black\")\n",
    "                p += line2d([(j, y), (j+1, y)], thickness=1+4*c.h, color=\"black\")\n",
    "                p += line2d([(j, y-1), (j+1, y-1)], thickness=1+4*c.b, color=\"black\")\n",
    "                p += line2d([(j+1, y), (j+1, y-1)], thickness=1+4*c.d, color=\"black\")\n",
    "        p.show()\n"
   ]
  },
  {
   "cell_type": "code",
   "execution_count": 39,
   "id": "40deaf35-05d1-4920-ae7c-b8ea928e4ecc",
   "metadata": {},
   "outputs": [
    {
     "data": {
      "image/png": "[encoded data removed]",
      "text/plain": [
       "Graphics object consisting of 16 graphics primitives"
      ]
     },
     "metadata": {},
     "output_type": "display_data"
    }
   ],
   "source": [
    "L = PseudoMaze((2,2))\n",
    "L.plot_maze()"
   ]
  },
  {
   "cell_type": "code",
   "execution_count": null,
   "id": "6b3ee461-009f-4d6f-801f-1fbc65ae14be",
   "metadata": {},
   "outputs": [],
   "source": []
  },
  {
   "cell_type": "code",
   "execution_count": null,
   "id": "a7ca84a6-bd7a-42ea-9a9e-848285a4890c",
   "metadata": {},
   "outputs": [],
   "source": []
  },
  {
   "cell_type": "code",
   "execution_count": null,
   "id": "7cad8c2a-f0a2-4759-80f3-d98f130d3e8b",
   "metadata": {},
   "outputs": [],
   "source": []
  },
  {
   "cell_type": "code",
   "execution_count": null,
   "id": "00ef4d0c-8e58-42de-8c39-d5a246b32d7c",
   "metadata": {},
   "outputs": [],
   "source": []
  }
 ],
 "metadata": {
  "kernelspec": {
   "display_name": "SageMath 10.4",
   "language": "sage",
   "name": "sagemath"
  },
  "language_info": {
   "codemirror_mode": {
    "name": "ipython",
    "version": 3
   },
   "file_extension": ".py",
   "mimetype": "text/x-python",
   "name": "python",
   "nbconvert_exporter": "python",
   "pygments_lexer": "ipython3",
   "version": "3.12.8"
  }
 },
 "nbformat": 4,
 "nbformat_minor": 5
}
