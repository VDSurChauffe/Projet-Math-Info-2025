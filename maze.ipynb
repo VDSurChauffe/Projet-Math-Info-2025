{
 "cells": [
  {
   "cell_type": "code",
   "execution_count": 2,
   "id": "174b431b-1bf6-4ff0-a56b-aa067a2737ca",
   "metadata": {},
   "outputs": [],
   "source": [
    "import numpy as np"
   ]
  },
  {
   "cell_type": "code",
   "execution_count": 3,
   "id": "11c285fc-e9d3-4be7-91eb-14dc44743836",
   "metadata": {},
   "outputs": [],
   "source": [
    "class Cell:\n",
    "    def __init__(self,h=0,d=0,b=0,g=0):\n",
    "        self.h, self.d, self.b, self.g = h, d, b, g\n",
    "        self.visited = False\n",
    "        self.neighbors = []\n",
    "        self.xy = 0, 0\n",
    "\n",
    "    def __repr__(self):\n",
    "        return f\"Cell(h={self.h}, b={self.b}, g={self.g}, d={self.d})\""
   ]
  },
  {
   "cell_type": "code",
   "execution_count": 23,
   "id": "0e4e73ed-87e9-42f2-84b2-8f61ad6aa80a",
   "metadata": {},
   "outputs": [],
   "source": [
    "class PseudoMaze:\n",
    "    \"\"\"\n",
    "    Implémentation des pseudo-labyrinthes (abbr. PL).\n",
    "    Utilise une construction par graphe étiqueté par la position, et une construction par matrice de cellules,\n",
    "    chaque cellule stockant principalement les murs qui lui sont voisins.\n",
    "    L'initialiseur prend 1 parmi 3 arguments :\n",
    "    `size` : un tuple (`width`, `height`) qui donne les dimensions du PL à construire.\n",
    "        Construit le pseudo-labyrinthe vide (aucun murs sauf l'enceinte) de taille `height` x `width`\n",
    "    \"\"\"\n",
    "    def __init__(self, size=None, grid=None, adj=None):\n",
    "        args_given = (size != None) + (grid is not None) + (adj != None)\n",
    "        if not args_given: raise ValueError(\"aucun argument n'a été donné permettant de construire un pseudo-labyrinthe\")\n",
    "        if args_given > 1:\n",
    "            raise ValueError(\"impossible de choisir entre deux méthodes de construction\")\n",
    "\n",
    "        if size != None: # Méthode de construction : PL vide d'une taille donnée\n",
    "            self.size = size\n",
    "            self.height, self.width = self.size\n",
    "        \n",
    "            L = np.empty(self.size, dtype=Cell)\n",
    "            for i in range(self.height):\n",
    "                for j in range(self.width):\n",
    "                    L[i,j] = Cell()\n",
    "            for i in range(self.height):\n",
    "                for j in range(self.width):\n",
    "                    L[i, j].xy = j, i\n",
    "                    if i == 0:\n",
    "                        L[i, j].h = 1\n",
    "                    if i == self.height - 1:\n",
    "                        L[i, j].b = 1\n",
    "                    if j == 0:\n",
    "                        L[i, j].g = 1\n",
    "                    if j == self.width - 1:\n",
    "                        L[i, j].d = 1\n",
    "            self.mazeMatrix = L\n",
    "            self.__init__(grid=self.mazeMatrix)\n",
    "\n",
    "        elif grid is not None: # Méthode de construction : murs\n",
    "            # NB : \n",
    "            self.size = grid.shape\n",
    "            self.height, self.width = self.size\n",
    "\n",
    "            for i in range(self.height):\n",
    "                for j in range(self.width):\n",
    "                    c = grid[i, j]\n",
    "                    grid[i, j].xy = j, i\n",
    "                    if i == 0 and not c.h: raise ValueError(\"il manque une partie des bords du pseudo-labyrinthe donné\")\n",
    "                    if j == 0 and not c.g: raise ValueError(\"il manque une partie des bords du pseudo-labyrinthe donné\")\n",
    "                    if i == self.height - 1 and not c.b: raise ValueError(\"il manque une partie des bords du pseudo-labyrinthe donné\")\n",
    "                    if j == self.width - 1 and not c.d: raise ValueError(\"il manque une partie des bords du pseudo-labyrinthe donné\")\n",
    "\n",
    "                    if not c.h: grid[i, j].neighbors.append(grid[i-1, j])\n",
    "                    if not c.b: grid[i, j].neighbors.append(grid[i+1, j])\n",
    "                    if not c.g: grid[i, j].neighbors.append(grid[i, j-1])\n",
    "                    if not c.d: grid[i, j].neighbors.append(grid[i, j+1])\n",
    "\n",
    "            self.mazeMatrix = grid\n",
    "            attrs = {'d': (1, 0), 'g': (-1, 0), 'h': (0, -1), 'b': (0, 1)}\n",
    "            self.adj = { # Probablement la pire compréhension Python que j'ai jamais écrite.\n",
    "                (x, y): [\n",
    "                    (xn, yn) for dir_ in attrs if not self.mazeMatrix[y, x].__getattribute__(dir_) \\\n",
    "                    and (0 <= (xn := x + (xyn := attrs[dir_])[0]) < self.width) and (0 <= (yn := y + xyn[1]) < self.height)\n",
    "                ] for y, x in np.ndindex(self.size)\n",
    "            }\n",
    "            # On ajoute un graphe Sage, qui nous permettra d'utiliser directement certaines fonctions très utiles de Sage\n",
    "            self.sage_graph = Graph(self.adj)\n",
    "            \n",
    "\n",
    "        else: # Méthode de construction : liste d'adjacence\n",
    "            self.adj = adj\n",
    "            self.sage_graph = Graph(self.adj)\n",
    "            attrs = {(1, 0): 'd', (-1, 0): 'g', (0, -1): 'h', (0, 1): 'b'}\n",
    "            \n",
    "            self.width = max(adj, key=lambda xy: xy[0])[0] + 1\n",
    "            self.height = max(adj, key=lambda xy: xy[1])[1] + 1\n",
    "            self.size = self.height, self.width\n",
    "\n",
    "            self.mazeMatrix = np.array([[Cell(1, 1, 1, 1) for _ in range(self.width)] for _ in range(self.height)])\n",
    "            for x, y in adj:\n",
    "                for xn, yn in adj[(x, y)]:\n",
    "                    if abs(x - xn) + abs(y - yn) != 1 or not (0 <= xn < self.width) or not (0 <= yn < self.height):\n",
    "                        raise ValueError(\"la liste d'adjacence donnée ne correspond pas à un pseudo-labyrinthe valide\")\n",
    "                    self.mazeMatrix[y, x].__setattr__(attrs[(xn - x, yn - y)], 0)\n",
    "            \n",
    "            PseudoMaze(grid=self.mazeMatrix) # on vérifie que les murs sont bien formés\n",
    "\n",
    "\n",
    "    def update(self):\n",
    "        \"\"\"\n",
    "        Met à jour les attributs du PL à partir de ses murs.\n",
    "        Utile quand l'on a modifié ladite matrice et que l'on souhaite éviter les incohérences avec les autres constructions.\n",
    "        \"\"\"\n",
    "        for x, y in np.ndindex(self.size): self.mazeMatrix[x, y].neighbors = []\n",
    "        self.__init__(grid=self.mazeMatrix)\n",
    "\n",
    "    def est_labyrinthe(self):\n",
    "        return self.sage_graph.is_tree()\n",
    "    \n",
    "    def get_plot(self):\n",
    "        p = plot([])\n",
    "        for i in range(self.height):\n",
    "            for j in range(self.width):\n",
    "                y = self.height - i\n",
    "                c = self.mazeMatrix[i, j]\n",
    "                p += line2d([(j, y), (j, y-1)], thickness=1+4*c.g, color=\"black\")\n",
    "                p += line2d([(j, y), (j+1, y)], thickness=1+4*c.h, color=\"black\")\n",
    "                p += line2d([(j, y-1), (j+1, y-1)], thickness=1+4*c.b, color=\"black\")\n",
    "                p += line2d([(j+1, y), (j+1, y-1)], thickness=1+4*c.d, color=\"black\")\n",
    "        return p\n",
    "\n",
    "    def plot_maze(self):\n",
    "        self.get_plot().show()"
   ]
  },
  {
   "cell_type": "code",
   "execution_count": 24,
   "id": "a0f05782-b51a-46fd-8d72-2d385335408a",
   "metadata": {},
   "outputs": [],
   "source": [
    "def generation_aleatoire(width, height):\n",
    "    # On initialise un PL rempli de murs\n",
    "    L = PseudoMaze((width, height))\n",
    "    for x, y in np.ndindex(L.size): (c := L.mazeMatrix[x, y]).h, c.g, c.d, c.b = 1, 1, 1, 1\n",
    "    \n",
    "    # On commence sur une cellule aléatoire\n",
    "    currentCell = L.mazeMatrix[randint(0, width-1), randint(0, height-1)]\n",
    "    currentCell.visited = True\n",
    "    stack = [currentCell]\n",
    "\n",
    "    # Tant que la pile n'est pas vide, ce qui équivaut à dire que l'on n'a pas tout visité\n",
    "    while stack:\n",
    "        # On prend la dernière cellule de la pile\n",
    "        # et on détermine lesquels de ses voisins on n'a pas encore visité\n",
    "        currentCell = stack[-1]\n",
    "        non_visited_neighbors = [\n",
    "            neighbor for neighbor in currentCell.neighbors if not neighbor.visited\n",
    "        ]\n",
    "\n",
    "        # Si la cellule a des voisins non visités, on continue de tracer un chemin avec celle-ci\n",
    "        if non_visited_neighbors:\n",
    "            # On choisit au hasard un voisin que l'on n'a pas encore vu\n",
    "            nextCell = choice(non_visited_neighbors)\n",
    "            nextCell.visited = True\n",
    "\n",
    "            # Remove the wall between currentCell and nextCell\n",
    "            (xc, yc), (xn, yn) = currentCell.xy, nextCell.xy\n",
    "            if yc == yn:\n",
    "                # On est sur la méme ligne, donc on enlève un mur vertical\n",
    "                if xc < xn:\n",
    "                    currentCell.d = 0\n",
    "                    nextCell.g = 0\n",
    "                else:\n",
    "                    currentCell.g = 0\n",
    "                    nextCell.d = 0\n",
    "            else:\n",
    "                # On est sur la mếme colonne, donc on enlève un mur horizontal\n",
    "                if yc < yn:\n",
    "                    currentCell.b = 0\n",
    "                    nextCell.h = 0\n",
    "                else:\n",
    "                    currentCell.h = 0\n",
    "                    nextCell.b = 0\n",
    "\n",
    "            stack.append(nextCell)\n",
    "        else:\n",
    "            # Sinon, on revient en arrière, jusqu'à trouver une cellule ayant des voisins non visités\n",
    "            # ou jusqu'à épuiser la pile, auquel cas le labyrinthe est terminé.\n",
    "            stack.pop()\n",
    "    \n",
    "    L.update() # on met à jour l'attribut de construction par graphe\n",
    "\n",
    "    return L"
   ]
  },
  {
   "cell_type": "code",
   "execution_count": 25,
   "id": "8a45f658-5cf1-4958-a49c-3c4ca0d47a9f",
   "metadata": {},
   "outputs": [],
   "source": [
    "def nombre_labyrinthes(width, height):\n",
    "    return PseudoMaze((width, height)).sage_graph.laplacian_matrix()[1:, 1:].determinant()"
   ]
  },
  {
   "cell_type": "code",
   "execution_count": 27,
   "id": "2fc0d598-a11a-4fa2-8308-f6aea32656d5",
   "metadata": {},
   "outputs": [],
   "source": [
    "def resoudre_labyrinthe(L):\n",
    "    return L.sage_graph.all_paths((0, 0), (L.width-1, L.height-1))[0]"
   ]
  },
  {
   "cell_type": "code",
   "execution_count": 37,
   "id": "5c8eeded-c5ec-460d-bc5e-4ced86df3273",
   "metadata": {},
   "outputs": [],
   "source": [
    "def resolution_graphique(L, how=resoudre_labyrinthe):\n",
    "    p = L.get_plot()\n",
    "    path = how(L)\n",
    "    for (xa, ya), (xb, yb) in zip(path[:-1], path[1:]):\n",
    "        ya = L.height - ya\n",
    "        yb = L.height - yb\n",
    "        p += line2d([(xa+1/2, ya-1/2), (xb+1/2, yb-1/2)], color=\"blue\", thickness=3)\n",
    "    p.show()"
   ]
  },
  {
   "cell_type": "code",
   "execution_count": 38,
   "id": "c0764e2a-bfe7-4f62-b307-37353fd337c2",
   "metadata": {},
   "outputs": [
    {
     "name": "stdout",
     "output_type": "stream",
     "text": [
      "from sage.graphs.path_enumeration import all_paths\n"
     ]
    }
   ],
   "source": [
    "import_statements(Graph.all_paths)"
   ]
  },
  {
   "cell_type": "code",
   "execution_count": 39,
   "id": "40deaf35-05d1-4920-ae7c-b8ea928e4ecc",
   "metadata": {},
   "outputs": [
    {
     "data": {
      "image/png": "[encoded data removed]",
      "text/plain": [
       "Graphics object consisting of 436 graphics primitives"
      ]
     },
     "metadata": {},
     "output_type": "display_data"
    }
   ],
   "source": [
    "L = generation_aleatoire(10, 10)\n",
    "resolution_graphique(L)"
   ]
  },
  {
   "cell_type": "code",
   "execution_count": 9,
   "id": "6b3ee461-009f-4d6f-801f-1fbc65ae14be",
   "metadata": {},
   "outputs": [
    {
     "data": {
      "text/plain": [
       "4140081"
      ]
     },
     "execution_count": 9,
     "metadata": {},
     "output_type": "execute_result"
    }
   ],
   "source": [
    "nombre_labyrinthes(4, 5)"
   ]
  },
  {
   "cell_type": "code",
   "execution_count": null,
   "id": "a7ca84a6-bd7a-42ea-9a9e-848285a4890c",
   "metadata": {},
   "outputs": [],
   "source": []
  },
  {
   "cell_type": "code",
   "execution_count": null,
   "id": "7cad8c2a-f0a2-4759-80f3-d98f130d3e8b",
   "metadata": {},
   "outputs": [],
   "source": []
  },
  {
   "cell_type": "code",
   "execution_count": null,
   "id": "00ef4d0c-8e58-42de-8c39-d5a246b32d7c",
   "metadata": {},
   "outputs": [],
   "source": []
  }
 ],
 "metadata": {
  "kernelspec": {
   "display_name": "SageMath 10.4",
   "language": "sage",
   "name": "sagemath"
  },
  "language_info": {
   "codemirror_mode": {
    "name": "ipython",
    "version": 3
   },
   "file_extension": ".py",
   "mimetype": "text/x-python",
   "name": "python",
   "nbconvert_exporter": "python",
   "pygments_lexer": "ipython3",
   "version": "3.12.8"
  }
 },
 "nbformat": 4,
 "nbformat_minor": 5
}
