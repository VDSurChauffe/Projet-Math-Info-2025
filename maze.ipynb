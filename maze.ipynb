{
 "cells": [
  {
   "cell_type": "code",
   "execution_count": 1,
   "id": "174b431b-1bf6-4ff0-a56b-aa067a2737ca",
   "metadata": {},
   "outputs": [],
   "source": [
    "import numpy as np"
   ]
  },
  {
   "cell_type": "code",
   "execution_count": 45,
   "id": "11c285fc-e9d3-4be7-91eb-14dc44743836",
   "metadata": {},
   "outputs": [],
   "source": [
    "class Cell:\n",
    "    def __init__(self,h=False,d=False,b=False,g=False):\n",
    "        self.h, self.d, self.b, self.g = h, d, b, g\n",
    "        self.visited = False\n",
    "        self.neighbors = []\n",
    "        self.xy = 0, 0\n",
    "\n",
    "    def __repr__(self):\n",
    "        return f\"Cell(h={self.h}, b={self.b}, g={self.g}, d={self.d})\""
   ]
  },
  {
   "cell_type": "code",
   "execution_count": 68,
   "id": "0e4e73ed-87e9-42f2-84b2-8f61ad6aa80a",
   "metadata": {},
   "outputs": [],
   "source": [
    "class PseudoMaze:\n",
    "    def __init__(self, size=None, grid=None, adj=None):\n",
    "        args_given = (size != None) + (grid is not None) + (adj != None)\n",
    "        if not args_given: raise ValueError(\"aucun argument n'a été donné permettant de construire un pseudo-labyrinthe\")\n",
    "        if args_given > 1:\n",
    "            raise ValueError(\"impossible de choisir entre deux méthodes de construction\")\n",
    "\n",
    "        if size != None: # Méthode de construction : PL vide d'une taille donnée\n",
    "            self.size = size\n",
    "            self.height, self.width = self.size\n",
    "        \n",
    "            L = np.empty(self.size, dtype=Cell)\n",
    "            for i in range(self.height):\n",
    "                for j in range(self.width):\n",
    "                    L[i,j] = Cell()\n",
    "            for i in range(self.height):\n",
    "                for j in range(self.width):\n",
    "                    L[i, j].xy = j, i\n",
    "                    if i == 0:\n",
    "                        L[i, j].h = True\n",
    "                    if i == self.height - 1:\n",
    "                        L[i, j].b = True\n",
    "                    if j == 0:\n",
    "                        L[i, j].g = True\n",
    "                    if j == self.width - 1:\n",
    "                        L[i, j].d = True\n",
    "            self.mazeMatrix = L\n",
    "            self = PseudoMaze(grid=self.mazeMatrix)\n",
    "\n",
    "        elif grid is not None: # Méthode de construction : murs\n",
    "            self.size = grid.shape\n",
    "            self.height, self.width = self.size\n",
    "\n",
    "            for i in range(self.height):\n",
    "                for j in range(self.width):\n",
    "                    c = grid[i, j]\n",
    "                    grid[i, j].xy = j, i\n",
    "                    if i == 0 and not c.h: raise ValueError(\"il manque une partie des bords du pseudo-labyrinthe donné\")\n",
    "                    if j == 0 and not c.g: raise ValueError(\"il manque une partie des bords du pseudo-labyrinthe donné\")\n",
    "                    if i == self.height - 1 and not c.b: raise ValueError(\"il manque une partie des bords du pseudo-labyrinthe donné\")\n",
    "                    if j == self.width - 1 and not c.d: raise ValueError(\"il manque une partie des bords du pseudo-labyrinthe donné\")\n",
    "\n",
    "                    if not c.h: grid[i, j].neighbors.append(grid[i-1, j])\n",
    "                    if not c.b: grid[i, j].neighbors.append(grid[i+1, j])\n",
    "                    if not c.g: grid[i, j].neighbors.append(grid[i, j-1])\n",
    "                    if not c.d: grid[i, j].neighbors.append(grid[i, j+1])\n",
    "\n",
    "            self.mazeMatrix = grid\n",
    "            attrs = {'d': (1, 0), 'g': (-1, 0), 'h': (0, -1), 'b': (0, 1)}\n",
    "            self.adj = { # Probablement la pire compréhension Python que j'ai jamais écrite.\n",
    "                (x, y): [\n",
    "                    (xn, yn) for dir_ in attrs if not self.mazeMatrix[y, x].__getattribute__(dir_) \\\n",
    "                    and (0 <= (xn := x + (xyn := attrs[dir_])[0]) < self.width) and (0 <= (yn := y + xyn[1]) < self.height)\n",
    "                ] for y, x in np.ndindex(self.size)\n",
    "            }\n",
    "\n",
    "        else: # Méthode de construction : liste d'adjacence\n",
    "            self.adj = adj\n",
    "            attrs = {(1, 0): 'd', (-1, 0): 'g', (0, -1): 'h', (0, 1): 'b'}\n",
    "            \n",
    "            self.width = max(adj, key=lambda xy: xy[0])[0] + 1\n",
    "            self.height = max(adj, key=lambda xy: xy[1])[1] + 1\n",
    "            self.size = self.height, self.width\n",
    "\n",
    "            self.mazeMatrix = np.array([[Cell(True, True, True, True) for _ in range(self.width)] for _ in range(self.height)])\n",
    "            for x, y in adj:\n",
    "                for xn, yn in adj[(x, y)]:\n",
    "                    if abs(x - xn) + abs(y - yn) != 1 or not (0 <= xn < self.width) or not (0 <= yn < self.height):\n",
    "                        raise ValueError(\"la liste d'adjacence donnée ne correspond pas à un pseudo-labyrinthe valide\")\n",
    "                    self.mazeMatrix[y, x].__setattr__(attrs[(xn - x, yn - y)], False)\n",
    "            \n",
    "            PseudoMaze(grid=self.mazeMatrix) # on vérifie que les murs sont bien formés\n",
    "\n",
    "    def to_graph(self):\n",
    "        g = Graph()\n",
    "        for i in range(self.height):\n",
    "            for j in range(self.width):\n",
    "                cell = self.mazeMatrix[i,j]\n",
    "                if not cell.h:\n",
    "                    g.add_edge((i, j), (i - 1, j))\n",
    "                if not cell.b:\n",
    "                    g.add_edge((i, j), (i + 1, j))\n",
    "                if not cell.g:\n",
    "                    g.add_edge((i, j), (i, j - 1))\n",
    "                if not cell.d:\n",
    "                    g.add_edge((i, j), (i, j + 1))\n",
    "        return g\n",
    "\n",
    "    def plot_maze(self):\n",
    "        p = plot([])\n",
    "        for i in range(self.height):\n",
    "            for j in range(self.width):\n",
    "                y = self.height - i\n",
    "                c = self.mazeMatrix[i, j]\n",
    "                p += line2d([(j, y), (j, y-1)], thickness=1+4*c.g, color=\"black\")\n",
    "                p += line2d([(j, y), (j+1, y)], thickness=1+4*c.h, color=\"black\")\n",
    "                p += line2d([(j, y-1), (j+1, y-1)], thickness=1+4*c.b, color=\"black\")\n",
    "                p += line2d([(j+1, y), (j+1, y-1)], thickness=1+4*c.d, color=\"black\")\n",
    "        p.show()\n"
   ]
  },
  {
   "cell_type": "code",
   "execution_count": 69,
   "id": "40deaf35-05d1-4920-ae7c-b8ea928e4ecc",
   "metadata": {},
   "outputs": [
    {
     "data": {
      "image/png": "[encoded data removed]",
      "text/plain": [
       "Graphics object consisting of 16 graphics primitives"
      ]
     },
     "metadata": {},
     "output_type": "display_data"
    },
    {
     "data": {
      "text/plain": [
       "{(0, 0): [(1, 0)],\n",
       " (1, 0): [(0, 0), (1, 1)],\n",
       " (0, 1): [(1, 1)],\n",
       " (1, 1): [(0, 1), (1, 0)]}"
      ]
     },
     "execution_count": 69,
     "metadata": {},
     "output_type": "execute_result"
    }
   ],
   "source": [
    "L = PseudoMaze(grid=np.array([\n",
    "    [Cell(1, 0, 1, 1), Cell(1, 1, 0, 0)],\n",
    "    [Cell(1, 0, 1, 1), Cell(0, 1, 1, 0)]\n",
    "]))\n",
    "L.plot_maze()\n",
    "L.adj"
   ]
  },
  {
   "cell_type": "code",
   "execution_count": null,
   "id": "6b3ee461-009f-4d6f-801f-1fbc65ae14be",
   "metadata": {},
   "outputs": [],
   "source": []
  },
  {
   "cell_type": "code",
   "execution_count": null,
   "id": "a7ca84a6-bd7a-42ea-9a9e-848285a4890c",
   "metadata": {},
   "outputs": [],
   "source": []
  },
  {
   "cell_type": "code",
   "execution_count": null,
   "id": "7cad8c2a-f0a2-4759-80f3-d98f130d3e8b",
   "metadata": {},
   "outputs": [],
   "source": []
  },
  {
   "cell_type": "code",
   "execution_count": null,
   "id": "00ef4d0c-8e58-42de-8c39-d5a246b32d7c",
   "metadata": {},
   "outputs": [],
   "source": []
  }
 ],
 "metadata": {
  "kernelspec": {
   "display_name": "SageMath 10.4",
   "language": "sage",
   "name": "sagemath"
  },
  "language_info": {
   "codemirror_mode": {
    "name": "ipython",
    "version": 3
   },
   "file_extension": ".py",
   "mimetype": "text/x-python",
   "name": "python",
   "nbconvert_exporter": "python",
   "pygments_lexer": "ipython3",
   "version": "3.12.8"
  }
 },
 "nbformat": 4,
 "nbformat_minor": 5
}
